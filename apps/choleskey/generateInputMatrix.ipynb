{
 "cells": [
  {
   "cell_type": "code",
   "execution_count": null,
   "id": "4f132234",
   "metadata": {},
   "outputs": [],
   "source": [
    "\n",
    "# This is an Jupyter Script for generating the Input Positive Definition(PD) Matrix for Cholesky decomposition.\n",
    "# The generated .txt file stores the entire PD matrix with the matrix elems row by row. \n",
    "# This input.txt file can be used directly In benchmark part in each cpp file.\n"
   ]
  },
  {
   "cell_type": "code",
   "execution_count": null,
   "id": "926e59ad",
   "metadata": {},
   "outputs": [],
   "source": [
    "import numpy as np\n",
    "\n",
    "#enter matrix size\n",
    "matrixSize = 4\n",
    "\n",
    "#1. Generates a random matrix A of size matrixSize x matrixSize.\n",
    "A = np.random.rand(matrixSize, matrixSize)\n",
    "print(A)\n",
    "\n",
    "#2. Computes the product of matrix A and its transpose, i.e., A * A^T, storing the result in matrix B.\n",
    "B = np.dot(A, A.transpose())\n",
    "print(\"B\")\n",
    "print(B)\n",
    "\n",
    "#3. Adds the transpose of matrix B to itself, generating a symmetric matrix C.\n",
    "C = B + B.T  # Ensure it's symmetric\n",
    "\n",
    "print(\"C\")\n",
    "print(C)\n",
    "\n",
    "try:\n",
    "    D = np.linalg.cholesky(C)\n",
    "    print(\"Matrix C is positive definite.\")\n",
    "    \n",
    "    # Write the Cholesky decomposition result to a text file\n",
    "    with open(f\"cholesky_result_{matrixSize}.txt\", \"w\") as file:\n",
    "        for row in C:\n",
    "            for value in row:\n",
    "                file.write(f\"{value}\\n\")\n",
    "except np.linalg.LinAlgError:\n",
    "    print(\"Matrix C is not positive definite.\")"
   ]
  }
 ],
 "metadata": {
  "kernelspec": {
   "display_name": "Python 3",
   "language": "python",
   "name": "python3"
  },
  "language_info": {
   "codemirror_mode": {
    "name": "ipython",
    "version": 3
   },
   "file_extension": ".py",
   "mimetype": "text/x-python",
   "name": "python",
   "nbconvert_exporter": "python",
   "pygments_lexer": "ipython3",
   "version": "3.8.8"
  }
 },
 "nbformat": 4,
 "nbformat_minor": 5
}
